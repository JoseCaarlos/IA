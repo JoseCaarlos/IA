{
 "cells": [
  {
   "cell_type": "code",
   "execution_count": 1,
   "metadata": {},
   "outputs": [],
   "source": [
    "import numpy as np\n",
    "import pandas as pd\n",
    "from random import choice"
   ]
  },
  {
   "cell_type": "code",
   "execution_count": 2,
   "metadata": {},
   "outputs": [
    {
     "data": {
      "text/html": [
       "<div>\n",
       "<style scoped>\n",
       "    .dataframe tbody tr th:only-of-type {\n",
       "        vertical-align: middle;\n",
       "    }\n",
       "\n",
       "    .dataframe tbody tr th {\n",
       "        vertical-align: top;\n",
       "    }\n",
       "\n",
       "    .dataframe thead th {\n",
       "        text-align: right;\n",
       "    }\n",
       "</style>\n",
       "<table border=\"1\" class=\"dataframe\">\n",
       "  <thead>\n",
       "    <tr style=\"text-align: right;\">\n",
       "      <th></th>\n",
       "      <th>id</th>\n",
       "      <th>altura</th>\n",
       "      <th>largura</th>\n",
       "      <th>comprimento</th>\n",
       "      <th>qi</th>\n",
       "    </tr>\n",
       "  </thead>\n",
       "  <tbody>\n",
       "    <tr>\n",
       "      <th>0</th>\n",
       "      <td>1</td>\n",
       "      <td>20</td>\n",
       "      <td>18</td>\n",
       "      <td>30.0</td>\n",
       "      <td>NaN</td>\n",
       "    </tr>\n",
       "    <tr>\n",
       "      <th>1</th>\n",
       "      <td>2</td>\n",
       "      <td>2</td>\n",
       "      <td>3</td>\n",
       "      <td>3.0</td>\n",
       "      <td>4.0</td>\n",
       "    </tr>\n",
       "    <tr>\n",
       "      <th>2</th>\n",
       "      <td>3</td>\n",
       "      <td>5</td>\n",
       "      <td>2</td>\n",
       "      <td>1.5</td>\n",
       "      <td>6.0</td>\n",
       "    </tr>\n",
       "    <tr>\n",
       "      <th>3</th>\n",
       "      <td>4</td>\n",
       "      <td>3</td>\n",
       "      <td>4</td>\n",
       "      <td>9.0</td>\n",
       "      <td>2.0</td>\n",
       "    </tr>\n",
       "  </tbody>\n",
       "</table>\n",
       "</div>"
      ],
      "text/plain": [
       "   id  altura  largura  comprimento   qi\n",
       "0   1      20       18         30.0  NaN\n",
       "1   2       2        3          3.0  4.0\n",
       "2   3       5        2          1.5  6.0\n",
       "3   4       3        4          9.0  2.0"
      ]
     },
     "execution_count": 2,
     "metadata": {},
     "output_type": "execute_result"
    }
   ],
   "source": [
    "dados = pd.read_csv('dados.csv',sep=';');\n",
    "dados"
   ]
  },
  {
   "cell_type": "code",
   "execution_count": 3,
   "metadata": {},
   "outputs": [],
   "source": [
    "dados['volume'] = dados['altura'] * dados['largura'] * dados['comprimento'] "
   ]
  },
  {
   "cell_type": "code",
   "execution_count": 4,
   "metadata": {},
   "outputs": [
    {
     "data": {
      "text/html": [
       "<div>\n",
       "<style scoped>\n",
       "    .dataframe tbody tr th:only-of-type {\n",
       "        vertical-align: middle;\n",
       "    }\n",
       "\n",
       "    .dataframe tbody tr th {\n",
       "        vertical-align: top;\n",
       "    }\n",
       "\n",
       "    .dataframe thead th {\n",
       "        text-align: right;\n",
       "    }\n",
       "</style>\n",
       "<table border=\"1\" class=\"dataframe\">\n",
       "  <thead>\n",
       "    <tr style=\"text-align: right;\">\n",
       "      <th></th>\n",
       "      <th>id</th>\n",
       "      <th>altura</th>\n",
       "      <th>largura</th>\n",
       "      <th>comprimento</th>\n",
       "      <th>qi</th>\n",
       "      <th>volume</th>\n",
       "    </tr>\n",
       "  </thead>\n",
       "  <tbody>\n",
       "    <tr>\n",
       "      <th>0</th>\n",
       "      <td>1</td>\n",
       "      <td>20</td>\n",
       "      <td>18</td>\n",
       "      <td>30.0</td>\n",
       "      <td>NaN</td>\n",
       "      <td>10800.0</td>\n",
       "    </tr>\n",
       "    <tr>\n",
       "      <th>1</th>\n",
       "      <td>2</td>\n",
       "      <td>2</td>\n",
       "      <td>3</td>\n",
       "      <td>3.0</td>\n",
       "      <td>4.0</td>\n",
       "      <td>18.0</td>\n",
       "    </tr>\n",
       "    <tr>\n",
       "      <th>2</th>\n",
       "      <td>3</td>\n",
       "      <td>5</td>\n",
       "      <td>2</td>\n",
       "      <td>1.5</td>\n",
       "      <td>6.0</td>\n",
       "      <td>15.0</td>\n",
       "    </tr>\n",
       "    <tr>\n",
       "      <th>3</th>\n",
       "      <td>4</td>\n",
       "      <td>3</td>\n",
       "      <td>4</td>\n",
       "      <td>9.0</td>\n",
       "      <td>2.0</td>\n",
       "      <td>108.0</td>\n",
       "    </tr>\n",
       "  </tbody>\n",
       "</table>\n",
       "</div>"
      ],
      "text/plain": [
       "   id  altura  largura  comprimento   qi   volume\n",
       "0   1      20       18         30.0  NaN  10800.0\n",
       "1   2       2        3          3.0  4.0     18.0\n",
       "2   3       5        2          1.5  6.0     15.0\n",
       "3   4       3        4          9.0  2.0    108.0"
      ]
     },
     "execution_count": 4,
     "metadata": {},
     "output_type": "execute_result"
    }
   ],
   "source": [
    "dados"
   ]
  },
  {
   "cell_type": "code",
   "execution_count": 5,
   "metadata": {},
   "outputs": [
    {
     "data": {
      "text/html": [
       "<div>\n",
       "<style scoped>\n",
       "    .dataframe tbody tr th:only-of-type {\n",
       "        vertical-align: middle;\n",
       "    }\n",
       "\n",
       "    .dataframe tbody tr th {\n",
       "        vertical-align: top;\n",
       "    }\n",
       "\n",
       "    .dataframe thead th {\n",
       "        text-align: right;\n",
       "    }\n",
       "</style>\n",
       "<table border=\"1\" class=\"dataframe\">\n",
       "  <thead>\n",
       "    <tr style=\"text-align: right;\">\n",
       "      <th></th>\n",
       "      <th>id</th>\n",
       "      <th>altura</th>\n",
       "      <th>largura</th>\n",
       "      <th>comprimento</th>\n",
       "      <th>qi</th>\n",
       "      <th>volume</th>\n",
       "    </tr>\n",
       "  </thead>\n",
       "  <tbody>\n",
       "    <tr>\n",
       "      <th>3</th>\n",
       "      <td>4</td>\n",
       "      <td>3</td>\n",
       "      <td>4</td>\n",
       "      <td>9.0</td>\n",
       "      <td>2.0</td>\n",
       "      <td>108.0</td>\n",
       "    </tr>\n",
       "    <tr>\n",
       "      <th>1</th>\n",
       "      <td>2</td>\n",
       "      <td>2</td>\n",
       "      <td>3</td>\n",
       "      <td>3.0</td>\n",
       "      <td>4.0</td>\n",
       "      <td>18.0</td>\n",
       "    </tr>\n",
       "    <tr>\n",
       "      <th>2</th>\n",
       "      <td>3</td>\n",
       "      <td>5</td>\n",
       "      <td>2</td>\n",
       "      <td>1.5</td>\n",
       "      <td>6.0</td>\n",
       "      <td>15.0</td>\n",
       "    </tr>\n",
       "  </tbody>\n",
       "</table>\n",
       "</div>"
      ],
      "text/plain": [
       "   id  altura  largura  comprimento   qi  volume\n",
       "3   4       3        4          9.0  2.0   108.0\n",
       "1   2       2        3          3.0  4.0    18.0\n",
       "2   3       5        2          1.5  6.0    15.0"
      ]
     },
     "execution_count": 5,
     "metadata": {},
     "output_type": "execute_result"
    }
   ],
   "source": [
    "caixas_ord = dados.loc[1:10].sort_values('volume',ascending=False)\n",
    "caixas_ord"
   ]
  },
  {
   "cell_type": "code",
   "execution_count": 6,
   "metadata": {},
   "outputs": [],
   "source": []
  },
  {
   "cell_type": "markdown",
   "metadata": {},
   "source": [
    "# Algoritmo Python"
   ]
  },
  {
   "cell_type": "markdown",
   "metadata": {},
   "source": [
    "**Significado Variáveis**"
   ]
  },
  {
   "cell_type": "markdown",
   "metadata": {},
   "source": [
    "***bi*** – item (caixa) i a ser utilizada no padrão de empacotamento, caracterizada pelo seu comprimento, largura e altura;\n",
    " \n",
    "***qi*** – quantidade de cada caixa;\n",
    "\n",
    "***contêiner*** – contêiner a ser preenchido, caracterizado pelo seu comprimento,largura e altura;\n",
    "\n",
    "− ***α*** - parâmetro que controla o grau de miopia e aleatoriedade da fase de construção;\n",
    "\n",
    "***maxiter*** - número máximo de iterações definido como critério de parada;\n",
    "\n",
    "***S**** – melhor solução encontrada dentro de todas as iterações; \n",
    "\n",
    "***iter*** – parâmetro que controla o número de iterações;\n",
    "\n",
    "***S*** - melhor solução encontrada dentro de uma iteração;\n",
    "\n",
    "***numcaixa*** – número total de caixas a serem empacotadas;\n",
    "\n",
    "\n",
    "***C*** – lista de candidatos composta pelas caixas posicionadas em ordem decrescente de volume;\n",
    "\n",
    "***lista*** – parâmetro que controla a lista de caixas a ser utilizada para o preenchimento (lista=1 – LRC; lista=2 – LRC , lista=3 ou lista=4 – caixas rotacionadas);\n",
    "\n",
    "***|C|*** – tamanho da lista de candidatos;\n",
    "\n",
    "***estEspaco*** – parâmetro que controla o estoque de espaços (espaço \n",
    "ocioso do comprimento do contêiner);\n",
    "\n",
    "***β*** caixa de maior volume encontrada na lista de candidatos C;\n",
    "\n",
    "***LRC*** – conjunto de lista restrita composta pelos melhores elementos da lista C;\n",
    "\n",
    "***LRC traço*** – conjunto de lista restrita composta pelos elementos restantes;\n",
    "\n",
    "***largDisp*** – valor da largura disponível da camada atual;\n",
    "\n",
    "***largConteiner*** – valor da largura do contêiner;\n",
    "\n",
    "***volVazio*** – valor do volume vazio do espaço ocioso da altura ou do comprimentoa ser preenchido;\n",
    "\n",
    "***LCRestAlt*** – conjunto de lista de candidatos que caibam no espaço criado acima de cada coluna preenchida na camada;\n",
    "\n",
    "****LCRestComp**** – conjunto de lista de candidatos que caibam no espaço ocioso criado a frente das caixas da camada atual;"
   ]
  },
  {
   "cell_type": "markdown",
   "metadata": {},
   "source": [
    "**Variáveis**"
   ]
  },
  {
   "cell_type": "code",
   "execution_count": 6,
   "metadata": {},
   "outputs": [],
   "source": [
    "s_aster = 0\n",
    "container = dados.loc[0:0].copy()\n",
    "# estEspaco = int(dados['volume'].loc[0:0].values)\n",
    "largConteiner = int(dados['largura'].loc[0:0].values)\n",
    "estEspaco = int(dados['comprimento'].loc[0:0].values)\n",
    "lista = 1 \n",
    "maxiter = range(1,15)\n",
    "numcaixa = dados['qi'].sum()\n",
    "c_modulo= len(caixas_ord.index)\n",
    "c = dados.loc[1:10].sort_values('volume',ascending=False)\n",
    "s = numcaixa\n",
    "alpha = 0.8\n",
    "largDisp = int(dados['largura'].loc[0:0].values)"
   ]
  },
  {
   "cell_type": "code",
   "execution_count": 7,
   "metadata": {},
   "outputs": [
    {
     "name": "stdout",
     "output_type": "stream",
     "text": [
      "4\n"
     ]
    }
   ],
   "source": [
    "caixa_u = []\n",
    "largConteiner = int(dados['largura'].loc[0:0].values)\n",
    "estEspaco = int(dados['comprimento'].loc[0:0].values)\n",
    "s_aster = 0\n",
    "c = dados.loc[1:10].sort_values('volume',ascending=False)\n",
    "for i in maxiter:\n",
    "    numCaixa = dados['qi'].sum()\n",
    "    s = numCaixa\n",
    "    c = dados.loc[1:10].sort_values('volume',ascending=False)\n",
    "    lista = 1 \n",
    "    cModulo = numCaixa\n",
    "    largDisp = largConteiner\n",
    "    while((cModulo > 0) &  (estEspaco > 0) & (lista > 0)):\n",
    "        b = int(c[0:1]['volume'])\n",
    "        lrc = c.loc[(c['volume'] >= (alpha * b)) & (c['volume'] <= b)]\n",
    "        lrc_t = c.drop(lrc.index, inplace=False)\n",
    "        while ((numcaixa > 0) & (estEspaco > 0) & (largDisp <= largConteiner) & (lista >0)):\n",
    "            if ((lista == 3) or lista == 4):\n",
    "                \n",
    "                s = int(lrc.loc[choice(list(lrc.index))].id)\n",
    "                \n",
    "                # Rotacionando as caixas C x L\n",
    "                if ((lrc.loc[lrc['id'] == s, 'comprimento'] > compConteiner).values[0]):\n",
    "                    aux = lrc.loc[lrc['id'] == s, 'comprimento']\n",
    "                    lrc.loc[lrc['id'] == s, 'comprimento'] = lrc.loc[lrc['id'] == s, 'largura']\n",
    "                    lrc.loc[lrc['id'] == s, 'largura'] = aux\n",
    "                    \n",
    "                # Rotacionando as caixas C x A\n",
    "                if ((lrc.loc[lrc['id'] == s, 'largura'] > compConteiner).values[0]):\n",
    "                    aux = lrc.loc[lrc['id'] == s, 'comprimento']\n",
    "                    lrc.loc[lrc['id'] == s, 'comprimento'] = lrc.loc[lrc['id'] == s, 'altura']\n",
    "                    lrc.loc[lrc['id'] == s, 'altura'] = aux\n",
    "            \n",
    "            # # Escolha Aleatória da Lista LRC\n",
    "            elif (lista == 1):\n",
    "                lrcCopy = lrc.copy()\n",
    "                s = int(lrc.loc[choice(list(lrc.index))].id)\n",
    "                largCaixa = dados.loc[dados['id'] == s,'largura'].values[0]\n",
    "                compCaixa = dados.loc[dados['id'] == s,'comprimento'].values[0]\n",
    "                '''' while ((largCaixa >= 0) or (compCaixa > estEspaco)):\n",
    "                    # Apagando a caixa da listas de possibilidades\n",
    "                    lrcCopy.drop(labels=dados.loc[dados['id'] == s].index, errors='ignore',inplace=True)\n",
    "                    s = int(lrc.loc[choice(list(lrc.index))].id)\n",
    "                    largCaixa = dados.loc[dados['id'] == s,'largura'].values[0]\n",
    "                    compCaixa = dados.loc[dados['id'] == s,'comprimento'].values[0]\n",
    "                    altCaixa = dados.loc[dados['id'] == s,'altura'].values[0]\n",
    "                lrc.loc[lrc['id'] == s, 'qi'] -= 1\n",
    "                profundidadeCam = dados.loc[dados['id'] == s,'comprimento'].values[0]\n",
    "                '''\n",
    "                       \n",
    "            # Escolha Aleatória da Lista LRC_t\n",
    "            elif (lista == 2):\n",
    "                s = int(lrc_t.loc[choice(list(lrc_t.index))].id)\n",
    "            \n",
    "            # Atualização dos Dados\n",
    "            \n",
    "            caixa_u.append(s) # Caixa de item empacotados\n",
    "            numcaixa -= 1 # Qtd de caixas faltantes\n",
    "            \n",
    "            # Apagando a caixa da listas de possibilidades\n",
    "            #lrc.drop(labels=dados.loc[dados['id'] == s].index, errors='ignore',inplace=True)\n",
    "            #lrc_t.drop(labels=dados.loc[dados['id'] == s].index, errors='ignore',inplace=True)\n",
    "            \n",
    "             # Ajustando o tamanho do container\n",
    "            container.loc[0,'altura'] -= dados.loc[dados['id'] == s, 'altura'].values[0]\n",
    "            container.loc[0,'largura'] -= dados.loc[dados['id'] == s, 'largura'].values[0]\n",
    "            container.loc[0,'comprimento'] -= dados.loc[dados['id'] == s, 'comprimento'].values[0]\n",
    "            container['volume'] = container['altura'] * container['largura'] * container['comprimento'] \n",
    "             \n",
    "            estEspacoLarg = dados.loc[0,'largura'] - dados.loc[dados['id'] == s, 'largura'].values[0]\n",
    "            estEspacoAlt = dados.loc[0,'altura'] - dados.loc[dados['id'] == s, 'altura'].values[0]\n",
    "\n",
    "            break;\n",
    "        break;\n",
    "    break;\n",
    "print(s)"
   ]
  },
  {
   "cell_type": "code",
   "execution_count": 8,
   "metadata": {},
   "outputs": [],
   "source": [
    "idCaixa = s"
   ]
  },
  {
   "cell_type": "code",
   "execution_count": 9,
   "metadata": {},
   "outputs": [
    {
     "data": {
      "text/plain": [
       "4"
      ]
     },
     "execution_count": 9,
     "metadata": {},
     "output_type": "execute_result"
    }
   ],
   "source": [
    "dados.loc[dados['id'] == s,'largura'].values[0]"
   ]
  },
  {
   "cell_type": "code",
   "execution_count": 10,
   "metadata": {},
   "outputs": [],
   "source": [
    "altCamada = container['altura'].values[0]\n",
    "largCamada = container['largura'].values[0]"
   ]
  },
  {
   "cell_type": "code",
   "execution_count": 11,
   "metadata": {},
   "outputs": [
    {
     "data": {
      "text/plain": [
       "14"
      ]
     },
     "execution_count": 11,
     "metadata": {},
     "output_type": "execute_result"
    }
   ],
   "source": [
    "largCamada"
   ]
  },
  {
   "cell_type": "code",
   "execution_count": 12,
   "metadata": {},
   "outputs": [
    {
     "data": {
      "text/html": [
       "<div>\n",
       "<style scoped>\n",
       "    .dataframe tbody tr th:only-of-type {\n",
       "        vertical-align: middle;\n",
       "    }\n",
       "\n",
       "    .dataframe tbody tr th {\n",
       "        vertical-align: top;\n",
       "    }\n",
       "\n",
       "    .dataframe thead th {\n",
       "        text-align: right;\n",
       "    }\n",
       "</style>\n",
       "<table border=\"1\" class=\"dataframe\">\n",
       "  <thead>\n",
       "    <tr style=\"text-align: right;\">\n",
       "      <th></th>\n",
       "      <th>id</th>\n",
       "      <th>altura</th>\n",
       "      <th>largura</th>\n",
       "      <th>comprimento</th>\n",
       "      <th>qi</th>\n",
       "      <th>volume</th>\n",
       "    </tr>\n",
       "  </thead>\n",
       "  <tbody>\n",
       "    <tr>\n",
       "      <th>0</th>\n",
       "      <td>1</td>\n",
       "      <td>20</td>\n",
       "      <td>18</td>\n",
       "      <td>30.0</td>\n",
       "      <td>NaN</td>\n",
       "      <td>10800.0</td>\n",
       "    </tr>\n",
       "    <tr>\n",
       "      <th>1</th>\n",
       "      <td>2</td>\n",
       "      <td>2</td>\n",
       "      <td>3</td>\n",
       "      <td>3.0</td>\n",
       "      <td>4.0</td>\n",
       "      <td>18.0</td>\n",
       "    </tr>\n",
       "    <tr>\n",
       "      <th>2</th>\n",
       "      <td>3</td>\n",
       "      <td>5</td>\n",
       "      <td>2</td>\n",
       "      <td>1.5</td>\n",
       "      <td>6.0</td>\n",
       "      <td>15.0</td>\n",
       "    </tr>\n",
       "    <tr>\n",
       "      <th>3</th>\n",
       "      <td>4</td>\n",
       "      <td>3</td>\n",
       "      <td>4</td>\n",
       "      <td>9.0</td>\n",
       "      <td>2.0</td>\n",
       "      <td>108.0</td>\n",
       "    </tr>\n",
       "  </tbody>\n",
       "</table>\n",
       "</div>"
      ],
      "text/plain": [
       "   id  altura  largura  comprimento   qi   volume\n",
       "0   1      20       18         30.0  NaN  10800.0\n",
       "1   2       2        3          3.0  4.0     18.0\n",
       "2   3       5        2          1.5  6.0     15.0\n",
       "3   4       3        4          9.0  2.0    108.0"
      ]
     },
     "execution_count": 12,
     "metadata": {},
     "output_type": "execute_result"
    }
   ],
   "source": [
    "dados"
   ]
  },
  {
   "cell_type": "code",
   "execution_count": 28,
   "metadata": {},
   "outputs": [
    {
     "data": {
      "text/html": [
       "<div>\n",
       "<style scoped>\n",
       "    .dataframe tbody tr th:only-of-type {\n",
       "        vertical-align: middle;\n",
       "    }\n",
       "\n",
       "    .dataframe tbody tr th {\n",
       "        vertical-align: top;\n",
       "    }\n",
       "\n",
       "    .dataframe thead th {\n",
       "        text-align: right;\n",
       "    }\n",
       "</style>\n",
       "<table border=\"1\" class=\"dataframe\">\n",
       "  <thead>\n",
       "    <tr style=\"text-align: right;\">\n",
       "      <th></th>\n",
       "      <th>id</th>\n",
       "      <th>altura</th>\n",
       "      <th>largura</th>\n",
       "      <th>comprimento</th>\n",
       "      <th>qi</th>\n",
       "      <th>volume</th>\n",
       "    </tr>\n",
       "  </thead>\n",
       "  <tbody>\n",
       "    <tr>\n",
       "      <th>0</th>\n",
       "      <td>1</td>\n",
       "      <td>17</td>\n",
       "      <td>14</td>\n",
       "      <td>21.0</td>\n",
       "      <td>NaN</td>\n",
       "      <td>4998.0</td>\n",
       "    </tr>\n",
       "  </tbody>\n",
       "</table>\n",
       "</div>"
      ],
      "text/plain": [
       "   id  altura  largura  comprimento  qi  volume\n",
       "0   1      17       14         21.0 NaN  4998.0"
      ]
     },
     "execution_count": 28,
     "metadata": {},
     "output_type": "execute_result"
    }
   ],
   "source": [
    "container"
   ]
  },
  {
   "cell_type": "code",
   "execution_count": 14,
   "metadata": {},
   "outputs": [
    {
     "data": {
      "text/html": [
       "<div>\n",
       "<style scoped>\n",
       "    .dataframe tbody tr th:only-of-type {\n",
       "        vertical-align: middle;\n",
       "    }\n",
       "\n",
       "    .dataframe tbody tr th {\n",
       "        vertical-align: top;\n",
       "    }\n",
       "\n",
       "    .dataframe thead th {\n",
       "        text-align: right;\n",
       "    }\n",
       "</style>\n",
       "<table border=\"1\" class=\"dataframe\">\n",
       "  <thead>\n",
       "    <tr style=\"text-align: right;\">\n",
       "      <th></th>\n",
       "      <th>id</th>\n",
       "      <th>altura</th>\n",
       "      <th>largura</th>\n",
       "      <th>comprimento</th>\n",
       "      <th>qi</th>\n",
       "      <th>volume</th>\n",
       "    </tr>\n",
       "  </thead>\n",
       "  <tbody>\n",
       "    <tr>\n",
       "      <th>3</th>\n",
       "      <td>4</td>\n",
       "      <td>3</td>\n",
       "      <td>4</td>\n",
       "      <td>9.0</td>\n",
       "      <td>2.0</td>\n",
       "      <td>108.0</td>\n",
       "    </tr>\n",
       "  </tbody>\n",
       "</table>\n",
       "</div>"
      ],
      "text/plain": [
       "   id  altura  largura  comprimento   qi  volume\n",
       "3   4       3        4          9.0  2.0   108.0"
      ]
     },
     "execution_count": 14,
     "metadata": {},
     "output_type": "execute_result"
    }
   ],
   "source": [
    "lrc"
   ]
  },
  {
   "cell_type": "code",
   "execution_count": 15,
   "metadata": {},
   "outputs": [],
   "source": [
    "altCaixa = lrc.loc[lrc['id'] == idCaixa]['altura']\n",
    "largCaixa = lrc.loc[lrc['id'] == idCaixa]['largura']\n",
    "qtdCaixa = lrc.loc[lrc['id'] == idCaixa]['qi']\n",
    "qtdCol = int(altCamada / altCaixa)\n",
    "qtdColLarg = int(largCamada / largCaixa)\n",
    "totCaixas = qtdCol * qtdColLarg"
   ]
  },
  {
   "cell_type": "code",
   "execution_count": 16,
   "metadata": {},
   "outputs": [
    {
     "data": {
      "text/plain": [
       "15"
      ]
     },
     "execution_count": 16,
     "metadata": {},
     "output_type": "execute_result"
    }
   ],
   "source": [
    "totCaixas"
   ]
  },
  {
   "cell_type": "code",
   "execution_count": 17,
   "metadata": {},
   "outputs": [],
   "source": [
    "qtdCaixa -= 1"
   ]
  },
  {
   "cell_type": "code",
   "execution_count": 18,
   "metadata": {},
   "outputs": [
    {
     "data": {
      "text/plain": [
       "3"
      ]
     },
     "execution_count": 18,
     "metadata": {},
     "output_type": "execute_result"
    }
   ],
   "source": [
    "qtdColLarg"
   ]
  },
  {
   "cell_type": "code",
   "execution_count": null,
   "metadata": {},
   "outputs": [],
   "source": []
  },
  {
   "cell_type": "code",
   "execution_count": 19,
   "metadata": {},
   "outputs": [
    {
     "data": {
      "text/plain": [
       "17"
      ]
     },
     "execution_count": 19,
     "metadata": {},
     "output_type": "execute_result"
    }
   ],
   "source": [
    "altCamada"
   ]
  },
  {
   "cell_type": "code",
   "execution_count": 98,
   "metadata": {},
   "outputs": [
    {
     "ename": "SyntaxError",
     "evalue": "invalid syntax (<ipython-input-98-f647d073b462>, line 8)",
     "output_type": "error",
     "traceback": [
      "\u001b[1;36m  File \u001b[1;32m\"<ipython-input-98-f647d073b462>\"\u001b[1;36m, line \u001b[1;32m8\u001b[0m\n\u001b[1;33m    if(!qtdCol > (qtdCaixa + 1):\u001b[0m\n\u001b[1;37m       ^\u001b[0m\n\u001b[1;31mSyntaxError\u001b[0m\u001b[1;31m:\u001b[0m invalid syntax\n"
     ]
    }
   ],
   "source": [
    "def completarColuna(lrc, idCaixa, altCamada):\n",
    "    altCaixa = lrc.loc[lrc['id'] == idCaixa]['altura']\n",
    "    largCaixa = lrc.loc[lrc['id'] == idCaixa]['largura']\n",
    "    qtdCaixa = lrc.loc[lrc['id'] == idCaixa]['qi']\n",
    "    qtdCol = int(altCamada / altCaixa)\n",
    "    qtdColLarg = int(largCamada / largCaixa)\n",
    "    totCaixas = qtdCol * qtdColLarg\n",
    "    if(!qtdCol > (qtdCaixa + 1):\n",
    "       altCamada -= (qtdCaixa + 1) * altCaixa\n",
    "       lrc.loc[lrc['id'] == s, 'qi'] -= qtdCaixa + 1\n",
    "    if(!totalCaixas > (qtdCaixa + 1):\n",
    "        qtdColPreenchida = (qtdCaixa+1) / qtdCol\n",
    "       \n",
    "       return False\n",
    "    if():\n",
    "    \n",
    "    "
   ]
  },
  {
   "cell_type": "code",
   "execution_count": 20,
   "metadata": {},
   "outputs": [
    {
     "data": {
      "text/plain": [
       "3    2.2\n",
       "Name: qi, dtype: float64"
      ]
     },
     "execution_count": 20,
     "metadata": {},
     "output_type": "execute_result"
    }
   ],
   "source": [
    "qtdColPreenchida = (qtdCaixa+10) / qtdCol\n",
    "qtdColPreenchida"
   ]
  },
  {
   "cell_type": "code",
   "execution_count": 21,
   "metadata": {},
   "outputs": [
    {
     "data": {
      "text/plain": [
       "5"
      ]
     },
     "execution_count": 21,
     "metadata": {},
     "output_type": "execute_result"
    }
   ],
   "source": [
    "qtdCol"
   ]
  },
  {
   "cell_type": "code",
   "execution_count": 22,
   "metadata": {},
   "outputs": [
    {
     "data": {
      "text/plain": [
       "4"
      ]
     },
     "execution_count": 22,
     "metadata": {},
     "output_type": "execute_result"
    }
   ],
   "source": [
    "idCaixa = s\n",
    "idCaixa"
   ]
  },
  {
   "cell_type": "code",
   "execution_count": 23,
   "metadata": {},
   "outputs": [
    {
     "name": "stderr",
     "output_type": "stream",
     "text": [
      "C:\\Users\\JOSE\\Anaconda3\\lib\\site-packages\\pandas\\core\\indexing.py:543: SettingWithCopyWarning: \n",
      "A value is trying to be set on a copy of a slice from a DataFrame.\n",
      "Try using .loc[row_indexer,col_indexer] = value instead\n",
      "\n",
      "See the caveats in the documentation: http://pandas.pydata.org/pandas-docs/stable/indexing.html#indexing-view-versus-copy\n",
      "  self.obj[item] = s\n"
     ]
    }
   ],
   "source": [
    "lrc.loc[lrc['id'] == s, 'qi'] -= 1"
   ]
  },
  {
   "cell_type": "code",
   "execution_count": 24,
   "metadata": {},
   "outputs": [
    {
     "data": {
      "text/plain": [
       "3    3\n",
       "Name: altura, dtype: int64"
      ]
     },
     "execution_count": 24,
     "metadata": {},
     "output_type": "execute_result"
    }
   ],
   "source": [
    "altCaixa = lrc.loc[lrc['id'] == idCaixa]['altura']\n",
    "largCaixa = lrc.loc[lrc['id'] == idCaixa]['largura']\n",
    "qtdCaixa = lrc.loc[lrc['id'] == idCaixa]['qi']\n",
    "altCaixa"
   ]
  },
  {
   "cell_type": "code",
   "execution_count": 25,
   "metadata": {},
   "outputs": [
    {
     "data": {
      "text/plain": [
       "5"
      ]
     },
     "execution_count": 25,
     "metadata": {},
     "output_type": "execute_result"
    }
   ],
   "source": [
    "qtdCol = int(altCamada / altCaixa)\n",
    "qtdCol"
   ]
  },
  {
   "cell_type": "code",
   "execution_count": 176,
   "metadata": {},
   "outputs": [
    {
     "data": {
      "text/html": [
       "<div>\n",
       "<style scoped>\n",
       "    .dataframe tbody tr th:only-of-type {\n",
       "        vertical-align: middle;\n",
       "    }\n",
       "\n",
       "    .dataframe tbody tr th {\n",
       "        vertical-align: top;\n",
       "    }\n",
       "\n",
       "    .dataframe thead th {\n",
       "        text-align: right;\n",
       "    }\n",
       "</style>\n",
       "<table border=\"1\" class=\"dataframe\">\n",
       "  <thead>\n",
       "    <tr style=\"text-align: right;\">\n",
       "      <th></th>\n",
       "      <th>id</th>\n",
       "      <th>altura</th>\n",
       "      <th>largura</th>\n",
       "      <th>comprimento</th>\n",
       "      <th>qi</th>\n",
       "      <th>volume</th>\n",
       "    </tr>\n",
       "  </thead>\n",
       "  <tbody>\n",
       "    <tr>\n",
       "      <th>3</th>\n",
       "      <td>4</td>\n",
       "      <td>4</td>\n",
       "      <td>4</td>\n",
       "      <td>9.0</td>\n",
       "      <td>1.0</td>\n",
       "      <td>108.0</td>\n",
       "    </tr>\n",
       "  </tbody>\n",
       "</table>\n",
       "</div>"
      ],
      "text/plain": [
       "   id  altura  largura  comprimento   qi  volume\n",
       "3   4       4        4          9.0  1.0   108.0"
      ]
     },
     "execution_count": 176,
     "metadata": {},
     "output_type": "execute_result"
    }
   ],
   "source": [
    "lrc"
   ]
  },
  {
   "cell_type": "code",
   "execution_count": 29,
   "metadata": {},
   "outputs": [],
   "source": [
    "lrc.loc[lrc['id'] == s, 'qi'] -= qtdCaixa + 1"
   ]
  },
  {
   "cell_type": "code",
   "execution_count": 62,
   "metadata": {},
   "outputs": [],
   "source": [
    "matrizPreechimento = pd.DataFrame(data=None, columns=(np.arange(11)),index=(np.arange(10)))"
   ]
  },
  {
   "cell_type": "code",
   "execution_count": 63,
   "metadata": {},
   "outputs": [],
   "source": [
    "matrizPreechimento['camada'] = 0"
   ]
  },
  {
   "cell_type": "code",
   "execution_count": 64,
   "metadata": {},
   "outputs": [
    {
     "data": {
      "text/html": [
       "<div>\n",
       "<style scoped>\n",
       "    .dataframe tbody tr th:only-of-type {\n",
       "        vertical-align: middle;\n",
       "    }\n",
       "\n",
       "    .dataframe tbody tr th {\n",
       "        vertical-align: top;\n",
       "    }\n",
       "\n",
       "    .dataframe thead th {\n",
       "        text-align: right;\n",
       "    }\n",
       "</style>\n",
       "<table border=\"1\" class=\"dataframe\">\n",
       "  <thead>\n",
       "    <tr style=\"text-align: right;\">\n",
       "      <th></th>\n",
       "      <th>0</th>\n",
       "      <th>1</th>\n",
       "      <th>2</th>\n",
       "      <th>3</th>\n",
       "      <th>4</th>\n",
       "      <th>5</th>\n",
       "      <th>6</th>\n",
       "      <th>7</th>\n",
       "      <th>8</th>\n",
       "      <th>9</th>\n",
       "      <th>10</th>\n",
       "      <th>camada</th>\n",
       "    </tr>\n",
       "  </thead>\n",
       "  <tbody>\n",
       "    <tr>\n",
       "      <th>0</th>\n",
       "      <td>NaN</td>\n",
       "      <td>NaN</td>\n",
       "      <td>NaN</td>\n",
       "      <td>NaN</td>\n",
       "      <td>NaN</td>\n",
       "      <td>NaN</td>\n",
       "      <td>NaN</td>\n",
       "      <td>NaN</td>\n",
       "      <td>NaN</td>\n",
       "      <td>NaN</td>\n",
       "      <td>NaN</td>\n",
       "      <td>0</td>\n",
       "    </tr>\n",
       "    <tr>\n",
       "      <th>1</th>\n",
       "      <td>NaN</td>\n",
       "      <td>NaN</td>\n",
       "      <td>NaN</td>\n",
       "      <td>NaN</td>\n",
       "      <td>NaN</td>\n",
       "      <td>NaN</td>\n",
       "      <td>NaN</td>\n",
       "      <td>NaN</td>\n",
       "      <td>NaN</td>\n",
       "      <td>NaN</td>\n",
       "      <td>NaN</td>\n",
       "      <td>0</td>\n",
       "    </tr>\n",
       "    <tr>\n",
       "      <th>2</th>\n",
       "      <td>NaN</td>\n",
       "      <td>NaN</td>\n",
       "      <td>NaN</td>\n",
       "      <td>NaN</td>\n",
       "      <td>NaN</td>\n",
       "      <td>NaN</td>\n",
       "      <td>NaN</td>\n",
       "      <td>NaN</td>\n",
       "      <td>NaN</td>\n",
       "      <td>NaN</td>\n",
       "      <td>NaN</td>\n",
       "      <td>0</td>\n",
       "    </tr>\n",
       "    <tr>\n",
       "      <th>3</th>\n",
       "      <td>NaN</td>\n",
       "      <td>NaN</td>\n",
       "      <td>NaN</td>\n",
       "      <td>NaN</td>\n",
       "      <td>NaN</td>\n",
       "      <td>NaN</td>\n",
       "      <td>NaN</td>\n",
       "      <td>NaN</td>\n",
       "      <td>NaN</td>\n",
       "      <td>NaN</td>\n",
       "      <td>NaN</td>\n",
       "      <td>0</td>\n",
       "    </tr>\n",
       "    <tr>\n",
       "      <th>4</th>\n",
       "      <td>NaN</td>\n",
       "      <td>NaN</td>\n",
       "      <td>NaN</td>\n",
       "      <td>NaN</td>\n",
       "      <td>NaN</td>\n",
       "      <td>NaN</td>\n",
       "      <td>NaN</td>\n",
       "      <td>NaN</td>\n",
       "      <td>NaN</td>\n",
       "      <td>NaN</td>\n",
       "      <td>NaN</td>\n",
       "      <td>0</td>\n",
       "    </tr>\n",
       "    <tr>\n",
       "      <th>5</th>\n",
       "      <td>NaN</td>\n",
       "      <td>NaN</td>\n",
       "      <td>NaN</td>\n",
       "      <td>NaN</td>\n",
       "      <td>NaN</td>\n",
       "      <td>NaN</td>\n",
       "      <td>NaN</td>\n",
       "      <td>NaN</td>\n",
       "      <td>NaN</td>\n",
       "      <td>NaN</td>\n",
       "      <td>NaN</td>\n",
       "      <td>0</td>\n",
       "    </tr>\n",
       "    <tr>\n",
       "      <th>6</th>\n",
       "      <td>NaN</td>\n",
       "      <td>NaN</td>\n",
       "      <td>NaN</td>\n",
       "      <td>NaN</td>\n",
       "      <td>NaN</td>\n",
       "      <td>NaN</td>\n",
       "      <td>NaN</td>\n",
       "      <td>NaN</td>\n",
       "      <td>NaN</td>\n",
       "      <td>NaN</td>\n",
       "      <td>NaN</td>\n",
       "      <td>0</td>\n",
       "    </tr>\n",
       "    <tr>\n",
       "      <th>7</th>\n",
       "      <td>NaN</td>\n",
       "      <td>NaN</td>\n",
       "      <td>NaN</td>\n",
       "      <td>NaN</td>\n",
       "      <td>NaN</td>\n",
       "      <td>NaN</td>\n",
       "      <td>NaN</td>\n",
       "      <td>NaN</td>\n",
       "      <td>NaN</td>\n",
       "      <td>NaN</td>\n",
       "      <td>NaN</td>\n",
       "      <td>0</td>\n",
       "    </tr>\n",
       "    <tr>\n",
       "      <th>8</th>\n",
       "      <td>NaN</td>\n",
       "      <td>NaN</td>\n",
       "      <td>NaN</td>\n",
       "      <td>NaN</td>\n",
       "      <td>NaN</td>\n",
       "      <td>NaN</td>\n",
       "      <td>NaN</td>\n",
       "      <td>NaN</td>\n",
       "      <td>NaN</td>\n",
       "      <td>NaN</td>\n",
       "      <td>NaN</td>\n",
       "      <td>0</td>\n",
       "    </tr>\n",
       "    <tr>\n",
       "      <th>9</th>\n",
       "      <td>NaN</td>\n",
       "      <td>NaN</td>\n",
       "      <td>NaN</td>\n",
       "      <td>NaN</td>\n",
       "      <td>NaN</td>\n",
       "      <td>NaN</td>\n",
       "      <td>NaN</td>\n",
       "      <td>NaN</td>\n",
       "      <td>NaN</td>\n",
       "      <td>NaN</td>\n",
       "      <td>NaN</td>\n",
       "      <td>0</td>\n",
       "    </tr>\n",
       "  </tbody>\n",
       "</table>\n",
       "</div>"
      ],
      "text/plain": [
       "     0    1    2    3    4    5    6    7    8    9   10  camada\n",
       "0  NaN  NaN  NaN  NaN  NaN  NaN  NaN  NaN  NaN  NaN  NaN       0\n",
       "1  NaN  NaN  NaN  NaN  NaN  NaN  NaN  NaN  NaN  NaN  NaN       0\n",
       "2  NaN  NaN  NaN  NaN  NaN  NaN  NaN  NaN  NaN  NaN  NaN       0\n",
       "3  NaN  NaN  NaN  NaN  NaN  NaN  NaN  NaN  NaN  NaN  NaN       0\n",
       "4  NaN  NaN  NaN  NaN  NaN  NaN  NaN  NaN  NaN  NaN  NaN       0\n",
       "5  NaN  NaN  NaN  NaN  NaN  NaN  NaN  NaN  NaN  NaN  NaN       0\n",
       "6  NaN  NaN  NaN  NaN  NaN  NaN  NaN  NaN  NaN  NaN  NaN       0\n",
       "7  NaN  NaN  NaN  NaN  NaN  NaN  NaN  NaN  NaN  NaN  NaN       0\n",
       "8  NaN  NaN  NaN  NaN  NaN  NaN  NaN  NaN  NaN  NaN  NaN       0\n",
       "9  NaN  NaN  NaN  NaN  NaN  NaN  NaN  NaN  NaN  NaN  NaN       0"
      ]
     },
     "execution_count": 64,
     "metadata": {},
     "output_type": "execute_result"
    }
   ],
   "source": [
    "matrizPreechimento"
   ]
  },
  {
   "cell_type": "markdown",
   "metadata": {},
   "source": []
  }
 ],
 "metadata": {
  "kernelspec": {
   "display_name": "Python 3",
   "language": "python",
   "name": "python3"
  },
  "language_info": {
   "codemirror_mode": {
    "name": "ipython",
    "version": 3
   },
   "file_extension": ".py",
   "mimetype": "text/x-python",
   "name": "python",
   "nbconvert_exporter": "python",
   "pygments_lexer": "ipython3",
   "version": "3.7.3"
  }
 },
 "nbformat": 4,
 "nbformat_minor": 2
}
